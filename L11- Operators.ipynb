{
 "cells": [
  {
   "cell_type": "markdown",
   "metadata": {},
   "source": [
    "#  Pthon Operators\n",
    "Operators are used to perform operations on variables and values.\n",
    "\n",
    "In the example below, we use the + operator to add together two values:"
   ]
  },
  {
   "cell_type": "code",
   "execution_count": 1,
   "metadata": {},
   "outputs": [
    {
     "name": "stdout",
     "output_type": "stream",
     "text": [
      "17\n"
     ]
    }
   ],
   "source": [
    "print(10 + 7)"
   ]
  },
  {
   "cell_type": "markdown",
   "metadata": {},
   "source": [
    "Python divides the operators in the following groups:\n",
    "\n",
    "- Arithmetic operators\n",
    "- Assignment operators\n",
    "- Comparison operators\n",
    "- Logical operators\n",
    "- Identity operators\n",
    "- Membership operators\n",
    "- Bitwise operators"
   ]
  },
  {
   "cell_type": "markdown",
   "metadata": {},
   "source": [
    "## Aritmetic Operators\n",
    "Arithmetic operators are used with numeric values to perform common mathematical operations:"
   ]
  },
  {
   "cell_type": "markdown",
   "metadata": {},
   "source": [
    "| Operator | Name | Example |\n",
    "|-----------|------|-----------|\n",
    "| + | Addition | x + y |\n",
    "| - | Subtraction | x - y | \n",
    "| * | Multiplication | x * y |\n",
    "| / | Division | x /y |\n",
    "| % | Modulud | x % y |\n",
    "| ** | Exponentiation | x ** y | \n",
    "| // | floor division | x// y |\n"
   ]
  },
  {
   "cell_type": "markdown",
   "metadata": {},
   "source": [
    "## Assignment Operators \n",
    "\n",
    "| Operator | Example | Same as |\n",
    "|--------| ------| ------|\n",
    "| = | x = 5 | x = 5|\n",
    "| += | x += 4 | x = x + 3|\n",
    "|  +=|  \tx += 3|x = x - 3|\n",
    "|  *= |   \tx *= 3| x = x * 3|\n",
    "| /= | x /= 3 | x = x /3  |"
   ]
  },
  {
   "cell_type": "markdown",
   "metadata": {},
   "source": [
    "## Comparison Operators\n",
    "Comparison operators are used to compaare two values:\n",
    "\n",
    "| Operator | Name | Example | \n",
    "| ------ | ------ | ----- | \n",
    "| == | Equal | x== y | \n",
    "| != | Not equal | x != y | \n",
    "| > | Greater than | x > y | \n",
    "| < | Less than | x < y |\n",
    "| >= | Greater than or equal to | x >= y | \n",
    "| <= | Less than or equal to | x <= y| "
   ]
  },
  {
   "cell_type": "markdown",
   "metadata": {},
   "source": [
    "## Logical Operators\n",
    "Logical operators are used to combine conditional statements:\n",
    "\n",
    "| Operator| Descrioption | example |\n",
    "| -----| ------ | ------| \n",
    "| and | Return True if both  statements are ture | x < 5 and x < 10 | \n",
    "| or | Returns Ture if one of the statements is true | x < 5 or x > 4 | \n",
    "| nor | Reverse the result, if the result is true | not(x < 5 and x < 10)"
   ]
  },
  {
   "cell_type": "markdown",
   "metadata": {},
   "source": []
  }
 ],
 "metadata": {
  "kernelspec": {
   "display_name": "venv",
   "language": "python",
   "name": "python3"
  },
  "language_info": {
   "codemirror_mode": {
    "name": "ipython",
    "version": 3
   },
   "file_extension": ".py",
   "mimetype": "text/x-python",
   "name": "python",
   "nbconvert_exporter": "python",
   "pygments_lexer": "ipython3",
   "version": "3.12.3"
  }
 },
 "nbformat": 4,
 "nbformat_minor": 2
}
